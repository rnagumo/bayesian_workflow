{
 "metadata": {
  "language_info": {
   "codemirror_mode": {
    "name": "ipython",
    "version": 3
   },
   "file_extension": ".py",
   "mimetype": "text/x-python",
   "name": "python",
   "nbconvert_exporter": "python",
   "pygments_lexer": "ipython3",
   "version": "3.9.1"
  },
  "orig_nbformat": 4,
  "kernelspec": {
   "name": "python3",
   "display_name": "Python 3.9.1 64-bit ('.venv': venv)"
  },
  "interpreter": {
   "hash": "2c83c46183f57271337f310c4603bd9db220d2ebfe208f07593e5c1058e0628d"
  }
 },
 "nbformat": 4,
 "nbformat_minor": 2,
 "cells": [
  {
   "source": [
    "# Scaled Linear Regression"
   ],
   "cell_type": "markdown",
   "metadata": {}
  },
  {
   "cell_type": "code",
   "execution_count": 1,
   "metadata": {},
   "outputs": [],
   "source": [
    "import arviz as az\n",
    "import jax.numpy as jnp\n",
    "import numpy as np\n",
    "import numpyro\n",
    "import numpyro.distributions as dist\n",
    "import matplotlib.pyplot as plt\n",
    "import pandas as pd\n",
    "import seaborn as sns\n",
    "from jax import random, ops\n",
    "from numpyro import diagnostics, infer\n",
    "\n",
    "rng_key = random.PRNGKey(0)"
   ]
  },
  {
   "source": [
    "# Original data"
   ],
   "cell_type": "markdown",
   "metadata": {}
  },
  {
   "cell_type": "code",
   "execution_count": 10,
   "metadata": {},
   "outputs": [],
   "source": [
    "rng_key, rng_key_eta, rng_key_x, rng_key_y, rng_key_z = random.split(rng_key, 5)\n",
    "eta = dist.Normal(50, 20).sample(rng_key_eta, (500,))\n",
    "x = dist.Normal(eta, 10).sample(rng_key_x)\n",
    "y = dist.Normal(5 * eta, 10).sample(rng_key_y)\n",
    "z = dist.Normal(2 * x + y + 3, 0.1).sample(rng_key_z)"
   ]
  },
  {
   "source": [
    "# 2x + y"
   ],
   "cell_type": "markdown",
   "metadata": {}
  },
  {
   "cell_type": "code",
   "execution_count": 11,
   "metadata": {},
   "outputs": [],
   "source": [
    "def linear_regression(x, y, z):\n",
    "    a = numpyro.sample(\"a\", dist.Normal(0, 1))\n",
    "    b = numpyro.sample(\"b\", dist.Normal(0, 1))\n",
    "    c = numpyro.sample(\"c\", dist.Normal(0, 1))\n",
    "    sigma = numpyro.sample(\"sigma\", dist.HalfCauchy(10))\n",
    "    numpyro.sample(\"z\", dist.Normal(a * x + b * y + c, sigma), obs=z)"
   ]
  },
  {
   "cell_type": "code",
   "execution_count": 12,
   "metadata": {},
   "outputs": [
    {
     "output_type": "stream",
     "name": "stderr",
     "text": [
      "sample: 100%|██████████| 1000/1000 [00:05<00:00, 192.02it/s, 1003 steps of size 3.11e-03. acc. prob=0.94]\n"
     ]
    }
   ],
   "source": [
    "rng_key, rng_key_infer = random.split(rng_key)\n",
    "\n",
    "kernel = infer.NUTS(linear_regression)\n",
    "mcmc = infer.MCMC(kernel, num_warmup=500, num_samples=500)\n",
    "mcmc.run(rng_key_infer, x, y, z)\n",
    "posterior_samples = mcmc.get_samples()"
   ]
  },
  {
   "cell_type": "code",
   "execution_count": 13,
   "metadata": {},
   "outputs": [
    {
     "output_type": "stream",
     "name": "stdout",
     "text": [
      "\n                mean       std    median      5.0%     95.0%     n_eff     r_hat\n         a      2.00      0.00      2.00      2.00      2.00    398.87      1.00\n         b      1.00      0.00      1.00      1.00      1.00    330.93      1.00\n         c      2.99      0.01      2.99      2.97      3.00    138.87      1.00\n     sigma      0.10      0.00      0.10      0.09      0.10    167.98      1.00\n\nNumber of divergences: 0\n"
     ]
    }
   ],
   "source": [
    "mcmc.print_summary()"
   ]
  },
  {
   "source": [
    "# Scaled"
   ],
   "cell_type": "markdown",
   "metadata": {}
  },
  {
   "cell_type": "code",
   "execution_count": 14,
   "metadata": {},
   "outputs": [
    {
     "output_type": "stream",
     "name": "stderr",
     "text": [
      "sample: 100%|██████████| 1000/1000 [00:04<00:00, 217.20it/s, 3 steps of size 7.90e-01. acc. prob=0.90]\n"
     ]
    }
   ],
   "source": [
    "rng_key, rng_key_infer = random.split(rng_key)\n",
    "\n",
    "x_scl = (x - x.mean()) / x.std()\n",
    "y_scl = (y - y.mean()) / y.std()\n",
    "\n",
    "kernel = infer.NUTS(linear_regression)\n",
    "mcmc = infer.MCMC(kernel, num_warmup=500, num_samples=500)\n",
    "mcmc.run(rng_key_infer, x_scl, y_scl, z)\n",
    "posterior_samples = mcmc.get_samples()"
   ]
  },
  {
   "cell_type": "code",
   "execution_count": 15,
   "metadata": {},
   "outputs": [
    {
     "output_type": "stream",
     "name": "stdout",
     "text": [
      "\n                mean       std    median      5.0%     95.0%     n_eff     r_hat\n         a      0.57      0.98      0.59     -1.02      2.18    431.43      1.00\n         b      0.49      0.99      0.47     -1.21      2.02    451.91      1.00\n         c      1.26      1.08      1.29     -0.69      2.68    400.85      1.00\n     sigma    376.90     11.79    376.17    356.97    394.08    474.56      1.00\n\nNumber of divergences: 0\n"
     ]
    }
   ],
   "source": [
    "mcmc.print_summary()"
   ]
  },
  {
   "cell_type": "code",
   "execution_count": null,
   "metadata": {},
   "outputs": [],
   "source": []
  }
 ]
}