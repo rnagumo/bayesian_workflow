{
 "cells": [
  {
   "cell_type": "code",
   "execution_count": 1,
   "source": [
    "import matplotlib.pyplot as plt\n",
    "import numpy as np\n",
    "import pandas as pd\n",
    "import seaborn as sns\n",
    "from jax import random\n",
    "from numpyro import diagnostics, infer\n",
    "from sklearn import datasets\n",
    "from sklearn import linear_model\n",
    "\n",
    "from myapp import spike_and_slab\n",
    "\n",
    "np.random.seed(12345)"
   ],
   "outputs": [],
   "metadata": {}
  },
  {
   "cell_type": "markdown",
   "source": [
    "# Data"
   ],
   "metadata": {}
  },
  {
   "cell_type": "code",
   "execution_count": null,
   "source": [
    "x, y = datasets.load_diabetes(return_X_y=True)\n",
    "y = y[:, None]\n",
    "\n",
    "x.shape, y.shape"
   ],
   "outputs": [],
   "metadata": {}
  },
  {
   "cell_type": "markdown",
   "source": [
    "# Full scratch"
   ],
   "metadata": {}
  },
  {
   "cell_type": "code",
   "execution_count": null,
   "source": [
    "hyperparams = spike_and_slab.SpikeAndSlabHyperParams(\n",
    "    a_w=1, b_w=1, nu_psi=5, q_psi=4, r=0.001\n",
    ")"
   ],
   "outputs": [],
   "metadata": {}
  },
  {
   "cell_type": "code",
   "execution_count": null,
   "source": [
    "posterior_samples = spike_and_slab.gibbs_sampling(x, y, hyperparams)"
   ],
   "outputs": [],
   "metadata": {}
  },
  {
   "cell_type": "code",
   "execution_count": null,
   "source": [
    "plt.figure(figsize=(12, 8))\n",
    "\n",
    "plt.subplot(321)\n",
    "plt.plot(posterior_samples.mu)\n",
    "plt.title(\"mu\")\n",
    "\n",
    "plt.subplot(322)\n",
    "plt.plot(posterior_samples.alpha)\n",
    "plt.title(\"alpha\")\n",
    "\n",
    "plt.subplot(323)\n",
    "plt.plot(posterior_samples.sigma_2)\n",
    "plt.title(\"sigma_2\")\n",
    "\n",
    "plt.subplot(324)\n",
    "plt.plot(posterior_samples.delta)\n",
    "plt.title(\"delta\")\n",
    "\n",
    "plt.subplot(325)\n",
    "plt.plot(posterior_samples.psi)\n",
    "plt.title(\"psi\")\n",
    "\n",
    "plt.subplot(326)\n",
    "plt.plot(posterior_samples.w)\n",
    "plt.title(\"w\")\n",
    "\n",
    "plt.tight_layout()\n",
    "plt.show()"
   ],
   "outputs": [],
   "metadata": {}
  },
  {
   "cell_type": "markdown",
   "source": [
    "# Prediction"
   ],
   "metadata": {}
  },
  {
   "cell_type": "code",
   "execution_count": null,
   "source": [
    "y_pred = spike_and_slab.predict(x, posterior_samples)"
   ],
   "outputs": [],
   "metadata": {}
  },
  {
   "cell_type": "code",
   "execution_count": null,
   "source": [
    "plt.scatter(y.ravel(), np.median(y_pred, 0).ravel())\n",
    "plt.plot([20, 350], [20, 350], \"--r\") \n",
    "plt.xlabel(\"True\")\n",
    "plt.ylabel(\"Prediction\")\n",
    "plt.show()"
   ],
   "outputs": [],
   "metadata": {}
  },
  {
   "cell_type": "code",
   "execution_count": null,
   "source": [],
   "outputs": [],
   "metadata": {}
  }
 ],
 "metadata": {
  "interpreter": {
   "hash": "2c83c46183f57271337f310c4603bd9db220d2ebfe208f07593e5c1058e0628d"
  },
  "kernelspec": {
   "name": "python3",
   "display_name": "Python 3.9.1 64-bit ('.venv': poetry)"
  },
  "language_info": {
   "codemirror_mode": {
    "name": "ipython",
    "version": 3
   },
   "file_extension": ".py",
   "mimetype": "text/x-python",
   "name": "python",
   "nbconvert_exporter": "python",
   "pygments_lexer": "ipython3",
   "version": "3.9.1"
  },
  "orig_nbformat": 4
 },
 "nbformat": 4,
 "nbformat_minor": 2
}